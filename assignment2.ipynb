{
 "cells": [
  {
   "cell_type": "markdown",
   "id": "38ac77ab",
   "metadata": {},
   "source": [
    "# 1.\tPython Program for n-th Fibonacci number"
   ]
  },
  {
   "cell_type": "code",
   "execution_count": 2,
   "id": "c57eb804",
   "metadata": {},
   "outputs": [
    {
     "name": "stdout",
     "output_type": "stream",
     "text": [
      "enter a number: 5\n",
      "fibonacci series of 1st 5 numbers is: [0, 1, 1, 2, 3]\n",
      "5 th number of the series is: 3\n"
     ]
    }
   ],
   "source": [
    "mylist=[0,1]\n",
    "n=int(input(\"enter a number: \"))\n",
    "a=0\n",
    "b=1\n",
    "for i in range(2,n):\n",
    "    c=a+b\n",
    "    a=b\n",
    "    b=c\n",
    "    mylist.append(c)\n",
    "print(\"fibonacci series of\",\"1st\",n,\"numbers is:\", mylist) \n",
    "d=mylist[-1]\n",
    "print(n,\"th number of the series is:\",d)            \n",
    "            "
   ]
  },
  {
   "cell_type": "markdown",
   "id": "3f41ad18",
   "metadata": {},
   "source": [
    "# 2.\tPython Program for How to check if a given number is Fibonacci number?\n",
    "\n"
   ]
  },
  {
   "cell_type": "code",
   "execution_count": 1,
   "id": "c02f7ab4",
   "metadata": {},
   "outputs": [
    {
     "name": "stdout",
     "output_type": "stream",
     "text": [
      "enter a number: 7\n",
      "not a fibonacci number\n"
     ]
    }
   ],
   "source": [
    "mylist=[0,1]\n",
    "n=int(input(\"enter a number: \"))\n",
    "a=0\n",
    "b=1\n",
    "d=False\n",
    "for i in range(2,n):\n",
    "    c=a+b\n",
    "    a=b\n",
    "    b=c\n",
    "    mylist.append(c) \n",
    "    if (n in mylist):\n",
    "        d=True\n",
    "        \n",
    "if d==True:\n",
    "    print('yes its a fibonacci number')\n",
    "else :\n",
    "    print(\"not a fibonacci number\")\n",
    "    \n",
    "   \n"
   ]
  },
  {
   "cell_type": "markdown",
   "id": "f235c70f",
   "metadata": {},
   "source": [
    "# 3.\tPython Program for n\\’th multiple of a number in Fibonacci Series\n"
   ]
  },
  {
   "cell_type": "code",
   "execution_count": 2,
   "id": "837293b1",
   "metadata": {},
   "outputs": [
    {
     "name": "stdout",
     "output_type": "stream",
     "text": [
      "enter a number: 7\n",
      "fibonacci series of 1st 7 numbers is: [0, 1, 1, 2, 3, 5, 8]\n",
      "7 th multiple of the number is: 56\n"
     ]
    }
   ],
   "source": [
    "mylist=[0,1]\n",
    "n=int(input(\"enter a number: \"))\n",
    "a=0\n",
    "b=1\n",
    "for i in range(2,n):\n",
    "    c=a+b\n",
    "    a=b\n",
    "    b=c\n",
    "    mylist.append(c)\n",
    "print(\"fibonacci series of\",\"1st\",n,\"numbers is:\", mylist) \n",
    "d=mylist[-1]\n",
    "print(n,\"th multiple of the number is:\",d*n)   "
   ]
  },
  {
   "cell_type": "markdown",
   "id": "ef507f40",
   "metadata": {},
   "source": [
    "# 4.\tProgram to print ASCII Value of a character\n"
   ]
  },
  {
   "cell_type": "code",
   "execution_count": 3,
   "id": "8a559b82",
   "metadata": {},
   "outputs": [
    {
     "name": "stdout",
     "output_type": "stream",
     "text": [
      "enter a character7\n",
      "The ASCII value of '7' is 55\n"
     ]
    }
   ],
   "source": [
    "c = str(input(\"enter a character\"))\n",
    "print(\"The ASCII value of '\" + c + \"' is\", ord(c))"
   ]
  },
  {
   "cell_type": "markdown",
   "id": "3b0f51c7",
   "metadata": {},
   "source": [
    "# 5.\tPython Program for Sum of squares of first n natural numbers\n"
   ]
  },
  {
   "cell_type": "code",
   "execution_count": null,
   "id": "af4885b4",
   "metadata": {},
   "outputs": [],
   "source": [
    "n=int(input(\"enter a number: \"))\n",
    "j=0\n",
    "for i in range(1,n+1):\n",
    "    j=j+i*i\n",
    "print(\"Sum of squares of first\",n,\"natural numbers =\",j)"
   ]
  },
  {
   "cell_type": "markdown",
   "id": "f5372e99",
   "metadata": {},
   "source": [
    "# 6.\tPython Program for cube sum of first n natural numbers\n"
   ]
  },
  {
   "cell_type": "code",
   "execution_count": null,
   "id": "46d23d91",
   "metadata": {},
   "outputs": [],
   "source": [
    "n=int(input(\"enter a number: \"))\n",
    "j=0\n",
    "for i in range(1,n+1):\n",
    "    j=j+i*i*i\n",
    "print(\"Sum of cubes of first\",n,\"natural numbers =\",j)"
   ]
  },
  {
   "cell_type": "markdown",
   "id": "bfa4bb95",
   "metadata": {},
   "source": [
    "# 7.\tPython Program to find sum of array\n"
   ]
  },
  {
   "cell_type": "code",
   "execution_count": 17,
   "id": "16081aca",
   "metadata": {},
   "outputs": [
    {
     "name": "stdout",
     "output_type": "stream",
     "text": [
      "Enter the size of the array: 3\n",
      "Enter array elements: \n",
      "1\n",
      "2\n",
      "3\n",
      "the array is: [1, 2, 3]\n",
      "Sum of the elements of array: 6\n"
     ]
    }
   ],
   "source": [
    "arr = []\n",
    "num = int(input(\"Enter the size of the array: \"))\n",
    "print(\"Enter array elements: \")\n",
    "for n in range(num):\n",
    "    numbers = int(input())\n",
    "    arr.append(numbers)\n",
    "print('the array is:',arr)   \n",
    "print(\"Sum of the elements of array:\", sum(arr))"
   ]
  },
  {
   "cell_type": "markdown",
   "id": "6616973c",
   "metadata": {},
   "source": [
    "# 8.\tPython Program to find largest element in an array\n"
   ]
  },
  {
   "cell_type": "code",
   "execution_count": 18,
   "id": "d471b2a4",
   "metadata": {},
   "outputs": [
    {
     "name": "stdout",
     "output_type": "stream",
     "text": [
      "Enter the size of the array: 4\n",
      "Enter array elements: \n",
      "1\n",
      "5\n",
      "8\n",
      "2\n",
      "the array is: [1, 5, 8, 2]\n",
      "the largest element of the array: 8\n"
     ]
    }
   ],
   "source": [
    "arr = []\n",
    "num = int(input(\"Enter the size of the array: \"))\n",
    "print(\"Enter array elements: \")\n",
    "for n in range(num):\n",
    "    numbers = int(input())\n",
    "    arr.append(numbers)\n",
    "print('the array is:',arr)   \n",
    "print(\"the largest element of the array:\", max(arr))"
   ]
  },
  {
   "cell_type": "markdown",
   "id": "cc2c65f7",
   "metadata": {},
   "source": [
    "# 9.\tPython Program for array rotation\n"
   ]
  },
  {
   "cell_type": "code",
   "execution_count": 22,
   "id": "74f45a4a",
   "metadata": {},
   "outputs": [
    {
     "name": "stdout",
     "output_type": "stream",
     "text": [
      "Enter the size of the array: 7\n",
      "Enter array elements: \n",
      "1\n",
      "2\n",
      "3\n",
      "4\n",
      "5\n",
      "7\n",
      "8\n",
      "the array is: [1, 2, 3, 4, 5, 7, 8]\n",
      "Array after left rotation is:  [3, 4, 5, 7, 8, 1, 2]\n"
     ]
    }
   ],
   "source": [
    "def rotateArray(arr, n, d):\n",
    "    temp = []\n",
    "    i = 0\n",
    "    while (i < d):\n",
    "        temp.append(arr[i])\n",
    "        i = i + 1\n",
    "    i = 0\n",
    "    while (d < n):\n",
    "        arr[i] = arr[d]\n",
    "        i = i + 1\n",
    "        d = d + 1\n",
    "    arr[:] = arr[: i] + temp\n",
    "    return arr\n",
    "arr = []\n",
    "num = int(input(\"Enter the size of the array: \"))\n",
    "print(\"Enter array elements: \")\n",
    "for n in range(num):\n",
    "    numbers = int(input())\n",
    "    arr.append(numbers)\n",
    "print('the array is:',arr)\n",
    "print(\"Array after left rotation is: \", end=' ')\n",
    "print(rotateArray(arr, len(arr), 2))"
   ]
  },
  {
   "cell_type": "markdown",
   "id": "4eea4ac0",
   "metadata": {},
   "source": [
    "# 10.\tPython Program for Reversal algorithm for array rotation\n"
   ]
  },
  {
   "cell_type": "code",
   "execution_count": 7,
   "id": "e1e8e15c",
   "metadata": {},
   "outputs": [
    {
     "name": "stdout",
     "output_type": "stream",
     "text": [
      "Enter the size of the array: 5\n",
      "Enter array elements: \n",
      "1\n",
      "2\n",
      "3\n",
      "4\n",
      "5\n",
      "the array is: [1, 2, 3, 4, 5]\n",
      "enter rotation interval2\n",
      "1 2 3 4 5 \n",
      "Shifted array: \n",
      "3 4 5 1 2 "
     ]
    }
   ],
   "source": [
    "\n",
    "def reverseArray(arr, start, end):\n",
    "    while (start < end):\n",
    "        temp=arr[start]\n",
    "        arr[start]=arr[end]\n",
    "        arr[end]=temp\n",
    "        start=start+1\n",
    "        end=end-1\n",
    "  \n",
    "def Rotate(a, d):\n",
    "    if d == 0:\n",
    "        return\n",
    "    n = len(a)\n",
    "    d = d % n\n",
    "    reverseArray(a, 0, d-1)\n",
    "    reverseArray(a, d, n-1)\n",
    "    reverseArray(a, 0, n-1)\n",
    "  \n",
    "def printArray(arr):\n",
    "    for i in range(0, len(arr)):\n",
    "        print(arr[i],end=\" \")\n",
    "arr = []\n",
    "num = int(input(\"Enter the size of the array: \"))\n",
    "print(\"Enter array elements: \")\n",
    "for n in range(num):\n",
    "    numbers = int(input())\n",
    "    arr.append(numbers)\n",
    "print('the array is:',arr)\n",
    "n = len(arr)\n",
    "d = int(input('enter rotation interval'))\n",
    "printArray(arr)  \n",
    "Rotate(arr, d)\n",
    "print(\"\\nShifted array: \")  \n",
    "printArray(arr)"
   ]
  },
  {
   "cell_type": "markdown",
   "id": "1a11506c",
   "metadata": {},
   "source": [
    "# 11.\tPython Program to Split the array and add the first part to the end"
   ]
  },
  {
   "cell_type": "code",
   "execution_count": 8,
   "id": "a471d9a8",
   "metadata": {},
   "outputs": [
    {
     "name": "stdout",
     "output_type": "stream",
     "text": [
      "Enter the size of the array: 7\n",
      "Enter array elements: \n",
      "1\n",
      "2\n",
      "3\n",
      "4\n",
      "5\n",
      "6\n",
      "7\n",
      "the array is: [1, 2, 3, 4, 5, 6, 7]\n",
      "position from which rotation starts: 2\n",
      "3 4 5 6 7 1 2 "
     ]
    }
   ],
   "source": [
    "def splitArr(a, n, k): \n",
    "   b = a[:k]\n",
    "   return (a[k::]+b[::])\n",
    "          \n",
    "arr = []\n",
    "num = int(input(\"Enter the size of the array: \"))\n",
    "print(\"Enter array elements: \")\n",
    "for n in range(num):\n",
    "    numbers = int(input())\n",
    "    arr.append(numbers)\n",
    "print('the array is:',arr)\n",
    "n = len(arr)\n",
    "position = int(input('position from which rotation starts: '))\n",
    "arr = splitArr(arr, n, position)\n",
    "for i in range(0, n): \n",
    "    print(arr[i], end = ' ')"
   ]
  },
  {
   "cell_type": "code",
   "execution_count": null,
   "id": "d57f7f94",
   "metadata": {},
   "outputs": [],
   "source": []
  }
 ],
 "metadata": {
  "kernelspec": {
   "display_name": "Python 3 (ipykernel)",
   "language": "python",
   "name": "python3"
  },
  "language_info": {
   "codemirror_mode": {
    "name": "ipython",
    "version": 3
   },
   "file_extension": ".py",
   "mimetype": "text/x-python",
   "name": "python",
   "nbconvert_exporter": "python",
   "pygments_lexer": "ipython3",
   "version": "3.9.7"
  }
 },
 "nbformat": 4,
 "nbformat_minor": 5
}

{
 "cells": [
  {
   "cell_type": "markdown",
   "id": "d5ff8217",
   "metadata": {},
   "source": [
    "# 1.\tWrite a Python program to find those numbers which are divisible by 7 and multiple of 5, between 1500 and 2700 (both included)."
   ]
  },
  {
   "cell_type": "code",
   "execution_count": 7,
   "id": "1cac473b",
   "metadata": {},
   "outputs": [
    {
     "name": "stdout",
     "output_type": "stream",
     "text": [
      "1505\n",
      "1540\n",
      "1575\n",
      "1610\n",
      "1645\n",
      "1680\n",
      "1715\n",
      "1750\n",
      "1785\n",
      "1820\n",
      "1855\n",
      "1890\n",
      "1925\n",
      "1960\n",
      "1995\n",
      "2030\n",
      "2065\n",
      "2100\n",
      "2135\n",
      "2170\n",
      "2205\n",
      "2240\n",
      "2275\n",
      "2310\n",
      "2345\n",
      "2380\n",
      "2415\n",
      "2450\n",
      "2485\n",
      "2520\n",
      "2555\n",
      "2590\n",
      "2625\n",
      "2660\n",
      "2695\n"
     ]
    }
   ],
   "source": [
    "for i in range (1500,2701):\n",
    "    if i % 7 == 0 and i % 5==0 :\n",
    "        print(i)"
   ]
  },
  {
   "cell_type": "markdown",
   "id": "815dbb2d",
   "metadata": {},
   "source": [
    "# 2.\tPython program to add two numbers"
   ]
  },
  {
   "cell_type": "code",
   "execution_count": 1,
   "id": "1bdfeb08",
   "metadata": {},
   "outputs": [
    {
     "name": "stdout",
     "output_type": "stream",
     "text": [
      "Type a number: 5\n",
      "Type another number: 6\n",
      "The sum is:  11\n"
     ]
    }
   ],
   "source": [
    "x = input(\"Type a number: \")\n",
    "y = input(\"Type another number: \")\n",
    "\n",
    "sum = int(x) + int(y)\n",
    "\n",
    "print(\"The sum is: \", sum)"
   ]
  },
  {
   "cell_type": "markdown",
   "id": "2f4918c2",
   "metadata": {},
   "source": [
    "# 3.\tMaximum of two numbers in Python"
   ]
  },
  {
   "cell_type": "code",
   "execution_count": 4,
   "id": "7304ad61",
   "metadata": {},
   "outputs": [
    {
     "name": "stdout",
     "output_type": "stream",
     "text": [
      "enter 1st no : 12\n",
      "enter 2nd no : 10\n",
      "Maximum of two numbers is:  12\n"
     ]
    }
   ],
   "source": [
    "min = input (\"enter 1st no : \")\n",
    "max = input (\"enter 2nd no : \")\n",
    "if min < max :\n",
    "    print (\"Maximum of two numbers is: \", max)\n",
    "else:\n",
    "        print (\"Maximum of two numbers is: \", min)"
   ]
  },
  {
   "cell_type": "markdown",
   "id": "0073ba63",
   "metadata": {},
   "source": [
    "# 4.\tPython Program for factorial of a number"
   ]
  },
  {
   "cell_type": "code",
   "execution_count": 37,
   "id": "1dc922ac",
   "metadata": {},
   "outputs": [
    {
     "name": "stdout",
     "output_type": "stream",
     "text": [
      "input a number: 4\n",
      "factorial of  4  is  24\n"
     ]
    }
   ],
   "source": [
    "fac = 1\n",
    "num = int(input(\"input a number: \"))\n",
    "for i in range(1, num + 1):\n",
    "           fac = fac * i\n",
    "print(\"factorial of \", num, \" is \", fac)"
   ]
  },
  {
   "cell_type": "markdown",
   "id": "6ff2cb5a",
   "metadata": {},
   "source": [
    "# 5.\tPython Program for simple interest"
   ]
  },
  {
   "cell_type": "code",
   "execution_count": 5,
   "id": "e4469938",
   "metadata": {},
   "outputs": [
    {
     "name": "stdout",
     "output_type": "stream",
     "text": [
      "enter principal amount: 1200\n",
      "enter time in year: 5.5\n",
      "enter roi per year: 4\n",
      "simple interest is: 264.0\n"
     ]
    }
   ],
   "source": [
    "p = float(input(\"enter principal amount: \"))\n",
    "t = float(input(\"enter time in year: \"))\n",
    "r = float(input(\"enter roi per year: \"))\n",
    "si = p*t*r/100\n",
    "print(\"simple interest is:\",si )"
   ]
  },
  {
   "cell_type": "markdown",
   "id": "5d35306a",
   "metadata": {},
   "source": [
    "# 6.\tPython Program for compound interest"
   ]
  },
  {
   "cell_type": "code",
   "execution_count": 10,
   "id": "cab259f9",
   "metadata": {},
   "outputs": [
    {
     "name": "stdout",
     "output_type": "stream",
     "text": [
      "enter principal amount: 1200\n",
      "enter time in year: 3\n",
      "enter roi per year: 4\n",
      "compound interest is: 149.84\n"
     ]
    }
   ],
   "source": [
    "p = float(input(\"enter principal amount: \"))\n",
    "t = float(input(\"enter time in year: \"))\n",
    "r = float(input(\"enter roi per year: \"))\n",
    "ci = round(p*(pow((1+r/100),t)-1),2)\n",
    "print(\"compound interest is:\",ci )"
   ]
  },
  {
   "cell_type": "markdown",
   "id": "fe6181b3",
   "metadata": {},
   "source": [
    "# 7.\tPython Program to check Armstrong Number"
   ]
  },
  {
   "cell_type": "code",
   "execution_count": null,
   "id": "2640028c",
   "metadata": {},
   "outputs": [],
   "source": [
    "anum = int(input(\"enter a number: \"))\n",
    "digits = [int(x) for x in str(anum)]\n",
    "digits\n",
    "cube = 0\n",
    "for i in digits :\n",
    "    cube = cube + i*i*i\n",
    "if cube == anum :\n",
    "    print(\"the number is an amstrong number\")\n",
    "else : print (\"the number is not an amstrong number\")"
   ]
  },
  {
   "cell_type": "markdown",
   "id": "608a77a8",
   "metadata": {},
   "source": [
    "# 8.\tPython Program for Program to find area of a circle"
   ]
  },
  {
   "cell_type": "code",
   "execution_count": 8,
   "id": "b35766bc",
   "metadata": {},
   "outputs": [
    {
     "name": "stdout",
     "output_type": "stream",
     "text": [
      "enter radius of the circle in cm:7\n",
      "area of the circle is 154.0 sqcm\n"
     ]
    }
   ],
   "source": [
    "r = float(input(\"enter radius of the circle in cm:\"))\n",
    "a = 22*(pow(r,2))/7\n",
    "print(\"area of the circle is\",a,\"sqcm\")"
   ]
  },
  {
   "cell_type": "markdown",
   "id": "19d22b14",
   "metadata": {},
   "source": [
    "# 9.\tPython program to print all Prime numbers in an Interval"
   ]
  },
  {
   "cell_type": "code",
   "execution_count": 19,
   "id": "baa02b39",
   "metadata": {},
   "outputs": [
    {
     "name": "stdout",
     "output_type": "stream",
     "text": [
      "Input a number: 1\n",
      "Input another number: 100\n",
      "1 2 3 5 7 11 13 17 19 23 29 31 37 41 43 47 53 59 61 67 71 73 79 83 89 97 "
     ]
    }
   ],
   "source": [
    "r1 = int(input(\"Input a number: \"))\n",
    "r2 = int(input(\"Input another number: \"))\n",
    "\n",
    "\n",
    "for x in range(r1,r2):\n",
    "    prime = True\n",
    "    for i in range(2,x):\n",
    "        if (x%i==0):\n",
    "            prime = False\n",
    "    if prime == True:\n",
    "         print(x,end=\" \")\n",
    "            "
   ]
  },
  {
   "cell_type": "markdown",
   "id": "2b94c19a",
   "metadata": {},
   "source": [
    "# 10.Python program to check whether a number is Prime or not"
   ]
  },
  {
   "cell_type": "code",
   "execution_count": 40,
   "id": "c9d9a124",
   "metadata": {},
   "outputs": [
    {
     "name": "stdout",
     "output_type": "stream",
     "text": [
      "enter a number: 57\n",
      "57 is not a prime number\n"
     ]
    }
   ],
   "source": [
    "p_num = int(input(\"enter a number: \"))\n",
    "if p_num > 1:\n",
    "    for i in range(2,p_num):\n",
    "        if (p_num % i) == 0:\n",
    "            print(p_num,\"is not a prime number\")\n",
    "            break\n",
    "    else:\n",
    "        print(p_num,\"is a prime number\") "
   ]
  }
 ],
 "metadata": {
  "kernelspec": {
   "display_name": "Python 3 (ipykernel)",
   "language": "python",
   "name": "python3"
  },
  "language_info": {
   "codemirror_mode": {
    "name": "ipython",
    "version": 3
   },
   "file_extension": ".py",
   "mimetype": "text/x-python",
   "name": "python",
   "nbconvert_exporter": "python",
   "pygments_lexer": "ipython3",
   "version": "3.9.7"
  }
 },
 "nbformat": 4,
 "nbformat_minor": 5
}
